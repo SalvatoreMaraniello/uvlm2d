{
 "cells": [
  {
   "cell_type": "markdown",
   "metadata": {},
   "source": [
    "   # Validation of static solver\n",
    "   Studies consider a flat plate model."
   ]
  },
  {
   "cell_type": "code",
   "execution_count": 1,
   "metadata": {
    "collapsed": false
   },
   "outputs": [
    {
     "ename": "KeyError",
     "evalue": "'DIRuvlm2d'",
     "output_type": "error",
     "traceback": [
      "\u001b[0;31m---------------------------------------------------------------------------\u001b[0m",
      "\u001b[0;31mKeyError\u001b[0m                                  Traceback (most recent call last)",
      "\u001b[0;32m<ipython-input-1-affc3effb8e9>\u001b[0m in \u001b[0;36m<module>\u001b[0;34m()\u001b[0m\n\u001b[1;32m      1\u001b[0m \u001b[0;32mimport\u001b[0m \u001b[0mos\u001b[0m\u001b[0;34m,\u001b[0m\u001b[0msys\u001b[0m\u001b[0;34m\u001b[0m\u001b[0m\n\u001b[0;32m----> 2\u001b[0;31m \u001b[0msys\u001b[0m\u001b[0;34m.\u001b[0m\u001b[0mpath\u001b[0m\u001b[0;34m.\u001b[0m\u001b[0mappend\u001b[0m\u001b[0;34m(\u001b[0m\u001b[0mos\u001b[0m\u001b[0;34m.\u001b[0m\u001b[0menviron\u001b[0m\u001b[0;34m[\u001b[0m\u001b[0;34m\"DIRuvlm2d\"\u001b[0m\u001b[0;34m]\u001b[0m\u001b[0;34m)\u001b[0m\u001b[0;34m\u001b[0m\u001b[0m\n\u001b[0m\u001b[1;32m      3\u001b[0m \u001b[0;34m\u001b[0m\u001b[0m\n\u001b[1;32m      4\u001b[0m \u001b[0;32mimport\u001b[0m \u001b[0mnumpy\u001b[0m \u001b[0;32mas\u001b[0m \u001b[0mnp\u001b[0m\u001b[0;34m\u001b[0m\u001b[0m\n\u001b[1;32m      5\u001b[0m \u001b[0;32mimport\u001b[0m \u001b[0mmatplotlib\u001b[0m\u001b[0;34m.\u001b[0m\u001b[0mpyplot\u001b[0m \u001b[0;32mas\u001b[0m \u001b[0mplt\u001b[0m\u001b[0;34m\u001b[0m\u001b[0m\n",
      "\u001b[0;32m/home/sm6110/anaconda3-4.3.0/lib/python3.6/os.py\u001b[0m in \u001b[0;36m__getitem__\u001b[0;34m(self, key)\u001b[0m\n\u001b[1;32m    667\u001b[0m         \u001b[0;32mexcept\u001b[0m \u001b[0mKeyError\u001b[0m\u001b[0;34m:\u001b[0m\u001b[0;34m\u001b[0m\u001b[0m\n\u001b[1;32m    668\u001b[0m             \u001b[0;31m# raise KeyError with the original key value\u001b[0m\u001b[0;34m\u001b[0m\u001b[0;34m\u001b[0m\u001b[0m\n\u001b[0;32m--> 669\u001b[0;31m             \u001b[0;32mraise\u001b[0m \u001b[0mKeyError\u001b[0m\u001b[0;34m(\u001b[0m\u001b[0mkey\u001b[0m\u001b[0;34m)\u001b[0m \u001b[0;32mfrom\u001b[0m \u001b[0;32mNone\u001b[0m\u001b[0;34m\u001b[0m\u001b[0m\n\u001b[0m\u001b[1;32m    670\u001b[0m         \u001b[0;32mreturn\u001b[0m \u001b[0mself\u001b[0m\u001b[0;34m.\u001b[0m\u001b[0mdecodevalue\u001b[0m\u001b[0;34m(\u001b[0m\u001b[0mvalue\u001b[0m\u001b[0;34m)\u001b[0m\u001b[0;34m\u001b[0m\u001b[0m\n\u001b[1;32m    671\u001b[0m \u001b[0;34m\u001b[0m\u001b[0m\n",
      "\u001b[0;31mKeyError\u001b[0m: 'DIRuvlm2d'"
     ]
    }
   ],
   "source": [
    "import os,sys\n",
    "sys.path.append('..')\n",
    "\n",
    "import numpy as np\n",
    "import matplotlib.pyplot as plt\n",
    "\n",
    "import uvlm2d_sta as uvlm\n",
    "import pp_uvlm2d as pp "
   ]
  },
  {
   "cell_type": "markdown",
   "metadata": {},
   "source": [
    "## Numerical vs. analytical\n",
    "The vorticity distrubution along a flat plate can be derived analytically under the assumptions of small angles of attack (Anderson, Sec.4.7). These methods are implemented into uvlm2d.solver.analytical. \n",
    "\n",
    "### 1 Lumped vortex solution\n",
    "\n",
    "We start deriving a solution with only 1 vortex element discretising the flat plate. Note that the length of the wake has no relevance, as the jump in vorticity is constant along the wake if the flow is steady."
   ]
  },
  {
   "cell_type": "code",
   "execution_count": null,
   "metadata": {
    "collapsed": false
   },
   "outputs": [],
   "source": [
    "# input\n",
    "Mw=2\n",
    "M=1\n",
    "alpha=2.*np.pi/180.\n",
    "chord=3.\n",
    "b=0.5*chord\n",
    "Uinf=np.array([20.,0.])\n",
    "rho=1.225\n",
    "S=uvlm.solver(M,Mw,b,Uinf,alpha,rho=1.225)\n",
    "# build geometry and solve\n",
    "S.build_flat_plate()\n",
    "S.solve_static_gamma2d()\n",
    "# derive reference solution\n",
    "S.analytical()"
   ]
  },
  {
   "cell_type": "markdown",
   "metadata": {},
   "source": [
    "The vorticity of the lumped vortex is equal to the total vorticity expected analytically:"
   ]
  },
  {
   "cell_type": "code",
   "execution_count": null,
   "metadata": {
    "collapsed": false
   },
   "outputs": [],
   "source": [
    "print('Lumped vorticity = %f' %S.Gamma[0])\n",
    "print('Analytical total vorticity = %f' %S.GammaTot_an)"
   ]
  },
  {
   "cell_type": "markdown",
   "metadata": {},
   "source": [
    "and the total force acting on the aerofoil is:"
   ]
  },
  {
   "cell_type": "code",
   "execution_count": null,
   "metadata": {
    "collapsed": false
   },
   "outputs": [],
   "source": [
    "# Aero forces\n",
    "Ftot=S.FmatSta.sum(0)\n",
    "print('Total force: Fx=%f , Fy=%f' %tuple(Ftot))\n",
    "print('Total lift (analytical) = %f' %S.Lift_an)"
   ]
  },
  {
   "cell_type": "markdown",
   "metadata": {
    "collapsed": true
   },
   "source": [
    "which correspond to a $CL_\\alpha$ of $2\\pi$:"
   ]
  },
  {
   "cell_type": "code",
   "execution_count": null,
   "metadata": {
    "collapsed": false
   },
   "outputs": [],
   "source": [
    "print('CLa numerical = %f'%(Ftot[1]/S.qinf/S.chord/S.alpha))\n",
    "print('CLa analytical = %f'%(S.Lift_an/S.qinf/S.chord/S.alpha))"
   ]
  },
  {
   "cell_type": "markdown",
   "metadata": {},
   "source": [
    "The position of the aerodynamic center, $\\eta_{LE}$ is also computed. As a double check, we can also compute the moment about the 25% chord line, which is practically zero."
   ]
  },
  {
   "cell_type": "code",
   "execution_count": null,
   "metadata": {
    "collapsed": false
   },
   "outputs": [],
   "source": [
    "Mte=0.0\n",
    "for nn in range(S.M):\n",
    "    Mte+=S.FmatSta[nn,1]*S.Zeta[nn,0]-S.FmatSta[nn,0]*S.Zeta[nn,1]\n",
    "rAC=np.zeros((2,))\n",
    "rAC[0]=np.interp(0.25*S.M,np.linspace(0,S.M,S.M+1),S.Rmat[:,0])\n",
    "rAC[1]=np.interp(0.25*S.M,np.linspace(0,S.M,S.M+1),S.Rmat[:,1])\n",
    "Mac=Mte - (Ftot[1]*rAC[0] - Ftot[0]*rAC[1])\n",
    "# AC calculation\n",
    "rLE=S.Rmat[0,:]\n",
    "etaLE = 1. - Mte / (-Ftot[0]*rLE[1]+Ftot[1]*rLE[0])\n",
    "\n",
    "print('computed position of AC from LE (non-dimensional) = %f' %etaLE)\n",
    "print('Aero moment about 25 perc chord = %f' %Mac)"
   ]
  },
  {
   "cell_type": "markdown",
   "metadata": {
    "collapsed": true
   },
   "source": [
    "### M>1 solution\n",
    "\n",
    "We now re-compute the solution for a larger number of elements bound vortices (M) and look at other quantities such as the vorticity distribution along the aerofoil and the position of the aerodynamic center. As before, the amount of vortices in the wake has no relevance. "
   ]
  },
  {
   "cell_type": "code",
   "execution_count": null,
   "metadata": {
    "collapsed": false
   },
   "outputs": [],
   "source": [
    "# input\n",
    "Mw=2\n",
    "M=100\n",
    "alpha=2.*np.pi/180.\n",
    "chord=3.\n",
    "b=0.5*chord\n",
    "Uinf=np.array([20.,0.])\n",
    "rho=1.225\n",
    "S=uvlm.solver(M,Mw,b,Uinf,alpha,rho=1.225)\n",
    "# build geometry and solve\n",
    "S.build_flat_plate()\n",
    "S.solve_static_gamma2d()\n",
    "# derive reference solution\n",
    "S.analytical()"
   ]
  },
  {
   "cell_type": "markdown",
   "metadata": {},
   "source": [
    "The total vorticity distribution compares well against the analitical solution:"
   ]
  },
  {
   "cell_type": "code",
   "execution_count": null,
   "metadata": {
    "collapsed": false
   },
   "outputs": [],
   "source": [
    "fig=plt.figure('Total vorticity', figsize=[10.,6.0])\n",
    "ax=fig.add_subplot(111)\n",
    "ax.plot(S.xvec_an,S.Gamma_an,'r',label=r'$\\Gamma$ (analytical)')\n",
    "ax.plot(S.Zeta[:-1,0],S.Gamma,'kx',label=r'$\\Gamma$ numerical')\n",
    "ax.legend()\n",
    "plt.show()"
   ]
  },
  {
   "cell_type": "markdown",
   "metadata": {},
   "source": [
    "The force distribution along the span is:"
   ]
  },
  {
   "cell_type": "code",
   "execution_count": null,
   "metadata": {
    "collapsed": false
   },
   "outputs": [],
   "source": [
    "pp.force_distr(S)\n",
    "plt.show()"
   ]
  },
  {
   "cell_type": "markdown",
   "metadata": {
    "collapsed": true
   },
   "source": [
    "and shows lead edge suction. The total force and moments are:"
   ]
  },
  {
   "cell_type": "code",
   "execution_count": null,
   "metadata": {
    "collapsed": true
   },
   "outputs": [],
   "source": [
    "# Aero forces\n",
    "Ftot=S.FmatSta.sum(0)\n",
    "Mte=0.0\n",
    "for nn in range(S.M):\n",
    "    Mte+=S.FmatSta[nn,1]*S.Zeta[nn,0]-S.FmatSta[nn,0]*S.Zeta[nn,1]\n",
    "rAC=np.zeros((2,))\n",
    "rAC[0]=np.interp(0.25*S.M,np.linspace(0,S.M,S.M+1),S.Rmat[:,0])\n",
    "rAC[1]=np.interp(0.25*S.M,np.linspace(0,S.M,S.M+1),S.Rmat[:,1])\n",
    "Mac=Mte - (Ftot[1]*rAC[0] - Ftot[0]*rAC[1])\n",
    "# AC calculation\n",
    "rLE=S.Zeta[0,:]\n",
    "etaLE = 1. - Mte / (-Ftot[0]*rLE[1]+Ftot[1]*rLE[0])\n",
    "# Aero coeff.s\n",
    "CF=Ftot/(2.*S.b*S.qinf)/S.alpha\n",
    "CM=Mac/(4.*S.b**2*S.qinf)/S.alpha"
   ]
  },
  {
   "cell_type": "markdown",
   "metadata": {},
   "source": [
    "The total vorticity ($\\Gamma_{TE}$) is close to the one predicted analytically:"
   ]
  },
  {
   "cell_type": "code",
   "execution_count": null,
   "metadata": {
    "collapsed": false
   },
   "outputs": [],
   "source": [
    "print('Numerical total vorticity = %f' %S.Gamma[-1])\n",
    "print('Analytical total vorticity = %f' %S.GammaTot_an)"
   ]
  },
  {
   "cell_type": "markdown",
   "metadata": {},
   "source": [
    "and the total force acting on the aerofoil is:"
   ]
  },
  {
   "cell_type": "code",
   "execution_count": null,
   "metadata": {
    "collapsed": false
   },
   "outputs": [],
   "source": [
    "# Aero forces\n",
    "Ftot=S.FmatSta.sum(0)\n",
    "print('Total force: Fx=%f , Fy=%f' %tuple(Ftot))\n",
    "print('Total lift (analytical) = %f' %S.Lift_an)"
   ]
  },
  {
   "cell_type": "markdown",
   "metadata": {
    "collapsed": true
   },
   "source": [
    "which correspond to a $CL_\\alpha$ of $2\\pi$:"
   ]
  },
  {
   "cell_type": "code",
   "execution_count": null,
   "metadata": {
    "collapsed": false
   },
   "outputs": [],
   "source": [
    "print('CLa numerical = %f'%(Ftot[1]/S.qinf/S.chord/S.alpha))\n",
    "print('CLa analytical = %f'%(S.Lift_an/S.qinf/S.chord/S.alpha))"
   ]
  },
  {
   "cell_type": "markdown",
   "metadata": {
    "collapsed": true
   },
   "source": [
    "Note that, despite the LE suction, the total horizontal force is positive - induced drag. \n",
    "\n",
    "Note that the total moment about the point at 0.25% of the chord is almost zero:"
   ]
  },
  {
   "cell_type": "code",
   "execution_count": null,
   "metadata": {
    "collapsed": false
   },
   "outputs": [],
   "source": [
    "print('Mac = %f' %Mac)\n",
    "print('Cmac = %f'%CM)"
   ]
  },
  {
   "cell_type": "markdown",
   "metadata": {
    "collapsed": true
   },
   "source": [
    "In fact, the position of the Ac computed numerically is:"
   ]
  },
  {
   "cell_type": "code",
   "execution_count": null,
   "metadata": {
    "collapsed": false
   },
   "outputs": [],
   "source": [
    "print('zetaAC/chord= %f'%etaLE)"
   ]
  },
  {
   "cell_type": "markdown",
   "metadata": {
    "collapsed": true
   },
   "source": [
    "In summary, the solution is good. Note that in this model the plate is at an angle w.r.t. the frame of reference but the free stream velocity is along the x axis. Also, the plate is assumed to have no motion."
   ]
  },
  {
   "cell_type": "markdown",
   "metadata": {},
   "source": [
    "## Solutions at different angles\n",
    "We verify that:\n",
    "- the derivative of the lift coefficient is constant\n",
    "- the drag is always zero\n",
    "- the aerodynamic moment about the quarter chord line is zero\n",
    "- the aerodynamic center is at 25% of the chord (this check is redundant if the previous is verified)"
   ]
  },
  {
   "cell_type": "code",
   "execution_count": null,
   "metadata": {
    "collapsed": false
   },
   "outputs": [],
   "source": [
    "# input\n",
    "M=40\n",
    "Mw=2\n",
    "chord=2.\n",
    "b=0.5*chord\n",
    "Uinf=np.array([20.,0.])\n",
    "rho=1.225\n",
    "\n",
    "Na=21\n",
    "Alphavec=np.linspace(-10,10,Na)*np.pi/180.\n",
    "CLavec,CDavec=np.zeros((Na,)), np.zeros((Na,))\n",
    "CMavec=np.zeros((Na,))\n",
    "EtaLEvec=np.zeros((Na,))\n",
    "\n",
    "for aa in range(Na):\n",
    "\n",
    "    alpha=Alphavec[aa]\n",
    "\n",
    "    S=uvlm.solver(M,Mw,b,Uinf,alpha,rho=1.225)\n",
    "    # build geometry and solve\n",
    "    S.build_flat_plate()\n",
    "    S.solve_static_gamma2d()\n",
    "    # derive reference solution\n",
    "    S.analytical()\n",
    "\n",
    "    # Aero forces\n",
    "    Ftot=S.FmatSta.sum(0)\n",
    "    Mte=0.0\n",
    "    for nn in range(S.M):\n",
    "        Mte+=S.FmatSta[nn,1]*S.Zeta[nn,0]-S.FmatSta[nn,0]*S.Zeta[nn,1]\n",
    "    rAC=np.zeros((2,))\n",
    "    rAC[0]=np.interp(0.25*S.M,np.linspace(0,S.M,S.M+1),S.Rmat[:,0])\n",
    "    rAC[1]=np.interp(0.25*S.M,np.linspace(0,S.M,S.M+1),S.Rmat[:,1])\n",
    "    Mac=Mte - (Ftot[1]*rAC[0] - Ftot[0]*rAC[1])\n",
    "    # AC calculation\n",
    "    rLE=S.Rmat[0,:]\n",
    "    etaLE = 1. - Mte / (-Ftot[0]*rLE[1]+Ftot[1]*rLE[0])\n",
    "    # Aero coeff.s\n",
    "    CF=Ftot/(2.*S.b*S.qinf)/S.alpha\n",
    "    CM=Mac/(4.*S.b**2*S.qinf)/S.alpha\n",
    "    \n",
    "    CDavec[aa]=CF[0]\n",
    "    CLavec[aa]=CF[1]\n",
    "    CMavec[aa]=CM\n",
    "    EtaLEvec[aa]=etaLE\n",
    "\n",
    "    print('alpha %.2f deg completed!' %(alpha*180./np.pi))\n",
    "\n"
   ]
  },
  {
   "cell_type": "code",
   "execution_count": null,
   "metadata": {
    "collapsed": false
   },
   "outputs": [],
   "source": [
    "fig=plt.figure('Force coefficients vs alpha', figsize=[12.,4.0])\n",
    "ax = fig.add_subplot(141)\n",
    "ax.plot(Alphavec,CLavec,'b',label=r'$CL_\\alpha$')\n",
    "ax.set_xlabel(r'\\alpha')\n",
    "ax.legend()\n",
    "ax = fig.add_subplot(142)\n",
    "plt.plot(Alphavec,CDavec,'r',label=r'$CD_\\alpha$')\n",
    "ax.set_xlabel(r'\\alpha')\n",
    "ax.legend()\n",
    "ax = fig.add_subplot(143)\n",
    "plt.plot(Alphavec,CMavec,'k',label=r'$CM_\\alpha$')\n",
    "ax.set_xlabel(r'\\alpha')\n",
    "ax.legend()\n",
    "ax = fig.add_subplot(144)\n",
    "plt.plot(Alphavec,EtaLEvec[:],'0.6',label=r'$\\eta$')\n",
    "ax.set_xlabel(r'\\alpha')\n",
    "ax.legend()\n",
    "plt.show()"
   ]
  },
  {
   "cell_type": "markdown",
   "metadata": {},
   "source": [
    "Comment:\n",
    "- the CLa is constant, and very close to $2\\pi$\n",
    "- the CDa is numerically zero.\n",
    "- the CMa about the 25% of the chord is very close to zero.\n",
    "- the AC is always close to the 25% of the chord."
   ]
  },
  {
   "cell_type": "markdown",
   "metadata": {},
   "source": [
    "## Validation of solution with $\\Gamma$\n",
    "\n",
    "The numerical solution above is w.r.t. $\\gamma_i=\\Gamma_i - \\Gamma_{i-1}$, and the $\\Gamma$ distribution is derived in a second stage. We can, however, also solve for the $\\Gamma$ distribution directly. This soilution is verified below"
   ]
  },
  {
   "cell_type": "code",
   "execution_count": null,
   "metadata": {
    "collapsed": false
   },
   "outputs": [],
   "source": [
    "# input\n",
    "M=40\n",
    "chord=2.\n",
    "Mw=2\n",
    "b=0.5*chord\n",
    "Uinf=np.array([20.,0.])\n",
    "rho=1.225\n",
    "\n",
    "Na=21\n",
    "Alphavec=np.linspace(-10,10,Na)*np.pi/180.\n",
    "CLavec,CDavec=np.zeros((Na,)), np.zeros((Na,))\n",
    "CMavec=np.zeros((Na,))\n",
    "EtaLEvec=np.zeros((Na,))\n",
    "\n",
    "for aa in range(Na):\n",
    "\n",
    "    alpha=Alphavec[aa]\n",
    "\n",
    "    S=uvlm.solver(M,Mw,b,Uinf,alpha,rho=1.225)\n",
    "    # build geometry and solve\n",
    "    S.build_flat_plate()\n",
    "    S.solve_static_Gamma2d()\n",
    "    # derive reference solution\n",
    "    S.analytical()\n",
    "\n",
    "    # Aero forces\n",
    "    Ftot=S.FmatSta.sum(0)\n",
    "    Mte=0.0\n",
    "    for nn in range(S.M):\n",
    "        Mte+=S.FmatSta[nn,1]*S.Zeta[nn,0]-S.FmatSta[nn,0]*S.Zeta[nn,1]\n",
    "    rAC=np.zeros((2,))\n",
    "    rAC[0]=np.interp(0.25*S.M,np.linspace(0,S.M,S.M+1),S.Rmat[:,0])\n",
    "    rAC[1]=np.interp(0.25*S.M,np.linspace(0,S.M,S.M+1),S.Rmat[:,1])\n",
    "    Mac=Mte - (Ftot[1]*rAC[0] - Ftot[0]*rAC[1])\n",
    "    # AC calculation\n",
    "    rLE=S.Rmat[0,:]\n",
    "    etaLE = 1. - Mte / (-Ftot[0]*rLE[1]+Ftot[1]*rLE[0])\n",
    "    # Aero coeff.s\n",
    "    CF=Ftot/(2.*S.b*S.qinf)/S.alpha\n",
    "    CM=Mac/(4.*S.b**2*S.qinf)/S.alpha\n",
    "    \n",
    "    CDavec[aa]=CF[0]\n",
    "    CLavec[aa]=CF[1]\n",
    "    CMavec[aa]=CM\n",
    "    EtaLEvec[aa]=etaLE"
   ]
  },
  {
   "cell_type": "markdown",
   "metadata": {},
   "source": [
    "Though no one to one comparison was made, it is easty to verify that the trends below are identical to those obtained solving for $\\gamma$."
   ]
  },
  {
   "cell_type": "code",
   "execution_count": null,
   "metadata": {
    "collapsed": false
   },
   "outputs": [],
   "source": [
    "fig=plt.figure('Force coefficients vs alpha', figsize=[12.,4.0])\n",
    "ax = fig.add_subplot(141)\n",
    "ax.plot(Alphavec,CLavec,'b',label=r'$CL_\\alpha$')\n",
    "ax.set_xlabel(r'\\alpha')\n",
    "ax.legend()\n",
    "ax = fig.add_subplot(142)\n",
    "plt.plot(Alphavec,CDavec,'r',label=r'$CD_\\alpha$')\n",
    "ax.set_xlabel(r'\\alpha')\n",
    "ax.legend()\n",
    "ax = fig.add_subplot(143)\n",
    "plt.plot(Alphavec,CMavec,'k',label=r'$CM_\\alpha$')\n",
    "ax.set_xlabel(r'\\alpha')\n",
    "ax.legend()\n",
    "ax = fig.add_subplot(144)\n",
    "plt.plot(Alphavec,EtaLEvec[:],'0.6',label=r'$\\eta$')\n",
    "ax.set_xlabel(r'\\alpha')\n",
    "ax.legend()\n",
    "plt.show()"
   ]
  },
  {
   "cell_type": "markdown",
   "metadata": {},
   "source": [
    "## Effect of vortex grid position\n",
    "Is is really necessary to displace the vortices grid a quarter-line behind the wing panels? Below, we derive the solution assuming that the vortex-grid coincides with the geometry grid. "
   ]
  },
  {
   "cell_type": "code",
   "execution_count": null,
   "metadata": {
    "collapsed": false
   },
   "outputs": [],
   "source": [
    "# input\n",
    "M=40\n",
    "chord=2.\n",
    "Mw=2\n",
    "b=0.5*chord\n",
    "Uinf=np.array([20.,0.])\n",
    "rho=1.225\n",
    "\n",
    "Na=21\n",
    "Alphavec=np.linspace(-10,10,Na)*np.pi/180.\n",
    "CLavec,CDavec=np.zeros((Na,)), np.zeros((Na,))\n",
    "CMavec=np.zeros((Na,))\n",
    "EtaLEvec=np.zeros((Na,))\n",
    "\n",
    "for aa in range(Na):\n",
    "\n",
    "    alpha=Alphavec[aa]\n",
    "\n",
    "    S=uvlm.solver(M,Mw,b,Uinf,alpha,rho=1.225)\n",
    "    S.perc_ring=0.0\n",
    "    \n",
    "    # build geometry and solve\n",
    "    S.build_flat_plate()\n",
    "    S.solve_static_Gamma2d()\n",
    "    # derive reference solution\n",
    "    S.analytical()\n",
    "\n",
    "    # Aero forces\n",
    "    Ftot=S.FmatSta.sum(0)\n",
    "    Mte=0.0\n",
    "    for nn in range(S.M):\n",
    "        Mte+=S.FmatSta[nn,1]*S.Zeta[nn,0]-S.FmatSta[nn,0]*S.Zeta[nn,1]\n",
    "    rAC=np.zeros((2,))\n",
    "    rAC[0]=np.interp(0.25*S.M,np.linspace(0,S.M,S.M+1),S.Rmat[:,0])\n",
    "    rAC[1]=np.interp(0.25*S.M,np.linspace(0,S.M,S.M+1),S.Rmat[:,1])\n",
    "    Mac=Mte - (Ftot[1]*rAC[0] - Ftot[0]*rAC[1])\n",
    "    # AC calculation\n",
    "    rLE=S.Rmat[0,:]\n",
    "    etaLE = 1. - Mte / (-Ftot[0]*rLE[1]+Ftot[1]*rLE[0])\n",
    "    # Aero coeff.s\n",
    "    CF=Ftot/(2.*S.b*S.qinf)/S.alpha\n",
    "    CM=Mac/(4.*S.b**2*S.qinf)/S.alpha\n",
    "    \n",
    "    CDavec[aa]=CF[0]\n",
    "    CLavec[aa]=CF[1]\n",
    "    CMavec[aa]=CM\n",
    "    EtaLEvec[aa]=etaLE"
   ]
  },
  {
   "cell_type": "code",
   "execution_count": null,
   "metadata": {
    "collapsed": false
   },
   "outputs": [],
   "source": [
    "fig=plt.figure('Force coefficients vs alpha', figsize=[12.,4.0])\n",
    "ax = fig.add_subplot(141)\n",
    "ax.plot(Alphavec,CLavec,'b',label=r'$CL_\\alpha$')\n",
    "ax.set_xlabel(r'\\alpha')\n",
    "ax.legend()\n",
    "ax = fig.add_subplot(142)\n",
    "plt.plot(Alphavec,CDavec,'r',label=r'$CD_\\alpha$')\n",
    "ax.set_xlabel(r'\\alpha')\n",
    "ax.legend()\n",
    "ax = fig.add_subplot(143)\n",
    "plt.plot(Alphavec,CMavec,'k',label=r'$CM_\\alpha$')\n",
    "ax.set_xlabel(r'\\alpha')\n",
    "ax.legend()\n",
    "ax = fig.add_subplot(144)\n",
    "plt.plot(Alphavec,EtaLEvec[:],'0.6',label=r'$\\eta$')\n",
    "ax.set_xlabel(r'\\alpha')\n",
    "ax.legend()\n",
    "plt.show()"
   ]
  },
  {
   "cell_type": "markdown",
   "metadata": {},
   "source": [
    "Results are very close to those obtained with shifted vortex rings. Below, we analyse further the convergence properties of the two discretisations. Note that in both cases the collocation point is in the middle of the vortex ring."
   ]
  },
  {
   "cell_type": "code",
   "execution_count": null,
   "metadata": {
    "collapsed": false
   },
   "outputs": [],
   "source": [
    "# input\n",
    "Mvec=[1,2,4,8,16,32,64,128]\n",
    "Mw=2\n",
    "chord=2.\n",
    "b=0.5*chord\n",
    "Uinf=np.array([20.,0.])\n",
    "rho=1.225\n",
    "alpha=5.*np.pi/180.\n",
    "\n",
    "Nm=len(Mvec)\n",
    "CLavec,CDavec=np.zeros((Nm,2)), np.zeros((Nm,2))\n",
    "CMavec=np.zeros((Nm,2))\n",
    "EtaLEvec=np.zeros((Nm,2))\n",
    "\n",
    "for mm in range(Nm):\n",
    "\n",
    "    ################################################\n",
    "    S=uvlm.solver(Mvec[mm],Mw,b,Uinf,alpha,rho=1.225)\n",
    "    # build geometry with shift\n",
    "    S.perc_ring=0.25\n",
    "    S.build_flat_plate()\n",
    "    S.solve_static_Gamma2d()\n",
    "    # Aero forces\n",
    "    Ftot=S.FmatSta.sum(0)\n",
    "    Mte=0.0\n",
    "    for nn in range(S.M):\n",
    "        Mte+=S.FmatSta[nn,1]*S.Zeta[nn,0]-S.FmatSta[nn,0]*S.Zeta[nn,1]\n",
    "    rAC=np.zeros((2,))\n",
    "    rAC[0]=np.interp(0.25*S.M,np.linspace(0,S.M,S.M+1),S.Rmat[:,0])\n",
    "    rAC[1]=np.interp(0.25*S.M,np.linspace(0,S.M,S.M+1),S.Rmat[:,1])\n",
    "    Mac=Mte - (Ftot[1]*rAC[0] - Ftot[0]*rAC[1])\n",
    "    # AC calculation\n",
    "    rLE=S.Rmat[0,:]\n",
    "    etaLE = 1. - Mte / (-Ftot[0]*rLE[1]+Ftot[1]*rLE[0])\n",
    "    # Aero coeff.s\n",
    "    CF=Ftot/(2.*S.b*S.qinf)/S.alpha\n",
    "    CM=Mac/(4.*S.b**2*S.qinf)/S.alpha\n",
    "    CDavec[mm,0]=CF[0]\n",
    "    CLavec[mm,0]=CF[1]\n",
    "    CMavec[mm,0]=CM\n",
    "    EtaLEvec[mm,0]=etaLE\n",
    "    \n",
    "    ################################################\n",
    "    S=uvlm.solver(Mvec[mm],Mw,b,Uinf,alpha,rho=1.225)\n",
    "    # build geometry without shift\n",
    "    S.perc_ring=0.0\n",
    "    S.build_flat_plate()\n",
    "    S.solve_static_Gamma2d()\n",
    "    # Aero forces\n",
    "    Ftot=S.FmatSta.sum(0)\n",
    "    Mte=0.0\n",
    "    for nn in range(S.M):\n",
    "        Mte+=S.FmatSta[nn,1]*S.Zeta[nn,0]-S.FmatSta[nn,0]*S.Zeta[nn,1]\n",
    "    rAC=np.zeros((2,))\n",
    "    rAC[0]=np.interp(0.25*S.M,np.linspace(0,S.M,S.M+1),S.Rmat[:,0])\n",
    "    rAC[1]=np.interp(0.25*S.M,np.linspace(0,S.M,S.M+1),S.Rmat[:,1])\n",
    "    Mac=Mte - (Ftot[1]*rAC[0] - Ftot[0]*rAC[1])\n",
    "    # AC calculation\n",
    "    rLE=S.Rmat[0,:]\n",
    "    etaLE = 1. - Mte / (-Ftot[0]*rLE[1]+Ftot[1]*rLE[0])\n",
    "    # Aero coeff.s\n",
    "    CF=Ftot/(2.*S.b*S.qinf)/S.alpha\n",
    "    CM=Mac/(4.*S.b**2*S.qinf)/S.alpha\n",
    "    CDavec[mm,1]=CF[0]\n",
    "    CLavec[mm,1]=CF[1]\n",
    "    CMavec[mm,1]=CM\n",
    "    EtaLEvec[mm,1]=etaLE"
   ]
  },
  {
   "cell_type": "code",
   "execution_count": null,
   "metadata": {
    "collapsed": false
   },
   "outputs": [],
   "source": [
    "fig=plt.figure('Force coefficients vs M', figsize=[12.,4.0])\n",
    "ax = fig.add_subplot(141)\n",
    "ax.set_title(r'$CL_\\alpha$')\n",
    "ax.semilogx(Mvec,CLavec[:,0],'r',label=r'25\\%')\n",
    "ax.semilogx(Mvec,CLavec[:,1],'b',label=r'0\\%')\n",
    "ax.set_xlabel(r'M')\n",
    "ax.legend()\n",
    "ax = fig.add_subplot(142)\n",
    "ax.set_title(r'$CD_\\alpha$')\n",
    "ax.semilogx(Mvec,CDavec[:,0],'r',label=r'25\\%')\n",
    "ax.semilogx(Mvec,CDavec[:,1],'b',label=r'0\\%')\n",
    "ax.set_xlabel(r'M')\n",
    "ax.legend()\n",
    "ax = fig.add_subplot(143)\n",
    "ax.set_title(r'$CM_\\alpha$')\n",
    "ax.semilogx(Mvec,CMavec[:,0],'r',label=r'25\\%')\n",
    "ax.semilogx(Mvec,CMavec[:,1],'b',label=r'0\\%')\n",
    "ax.set_xlabel(r'M')\n",
    "ax.legend()\n",
    "ax = fig.add_subplot(144)\n",
    "ax.set_title(r'$\\eta$')\n",
    "ax.semilogx(Mvec,EtaLEvec[:,0],'r',label=r'25\\%')\n",
    "ax.semilogx(Mvec,EtaLEvec[:,1],'b',label=r'0\\%')\n",
    "ax.set_xlabel(r'M')\n",
    "ax.legend()\n",
    "plt.show()"
   ]
  },
  {
   "cell_type": "markdown",
   "metadata": {
    "collapsed": true
   },
   "source": [
    "As expected, shifting the vortex panels ensures a much faster convergence of the aerodynamic moment. As M is increased, the methods are equivalent. The lift and drag  are, instead, always comparable."
   ]
  },
  {
   "cell_type": "markdown",
   "metadata": {
    "collapsed": true
   },
   "source": [
    "## Verify aerofoil motion and large deflections\n",
    "In this section we verify that the impact of the aerofoil motion and the large amplitude deflections (of both the aerofoil and the incoming flow) is well captured.\n",
    "\n",
    "### Large deflections\n",
    "Here the free stream and the aerofoil have an angle $\\alpha_{eff}$, while the aerofil is at an angle $\\alpha$ between the free stream - i.e., the free stream is not aligned with the x axis.\n",
    "\n",
    "As seen below, the force coefficients in wind axis are the same for the two solutions.\n",
    "\n",
    "Note that in the current implementation of the solver, the attribute alpha of the S class indicates the angle between the plate and the horizontal line, and not the effective angle of attack between free stream velocity and aerofoil."
   ]
  },
  {
   "cell_type": "code",
   "execution_count": null,
   "metadata": {
    "collapsed": false
   },
   "outputs": [],
   "source": [
    "# input\n",
    "M=30\n",
    "Mw=2\n",
    "chord=2.\n",
    "b=0.5*chord\n",
    "Uabs=20.\n",
    "\n",
    "################################## Reference\n",
    "Uinf=np.array([Uabs,0.])\n",
    "alpha_eff=5.*np.pi/180.\n",
    "S=uvlm.solver(M,Mw,b,Uinf,alpha_eff,rho=1.225)\n",
    "# build geometry with shift\n",
    "S.perc_ring=0.25\n",
    "S.build_flat_plate()\n",
    "S.solve_static_Gamma2d()\n",
    "# Aero forces\n",
    "Ftot=S.FmatSta.sum(0)\n",
    "# Aero coeff.s\n",
    "CF_ref=Ftot/(2.*S.b*S.qinf)/alpha_eff\n",
    "print('Reference Force in G and wind frame:')\n",
    "print(Ftot)\n",
    "print('absolute value: %f' %np.linalg.norm(Ftot))\n",
    "\n",
    "################################## Rotated system\n",
    "alpha_u=30.0*np.pi/180.0\n",
    "Uinf=Uabs*np.array([np.cos(alpha_u),np.sin(alpha_u)])\n",
    "alpha_eff=5.*np.pi/180.\n",
    "S=uvlm.solver(M,Mw,b,Uinf,alpha_eff-alpha_u,rho=1.225)\n",
    "# build geometry with shift\n",
    "S.perc_ring=0.25\n",
    "S.build_flat_plate()\n",
    "S.solve_static_Gamma2d()\n",
    "# Aero forces\n",
    "Ftot=S.FmatSta.sum(0)\n",
    "Fwind=np.zeros((2,))\n",
    "Uperp=np.array([-S.Udir[1],S.Udir[0]])\n",
    "Fwind[0]=np.dot(Ftot,S.Udir)\n",
    "Fwind[1]=np.dot(Ftot,Uperp)\n",
    "\n",
    "print('Current Force in G frame:')\n",
    "print(Ftot)\n",
    "print('Current Force in wind frame:')\n",
    "print(Fwind)\n",
    "\n",
    "CF_rot=Fwind/(2.*S.b*S.qinf)/alpha_eff \n",
    "print('Force coefficients (always projected in wind axes)')\n",
    "print('CF reference: %f %f'%tuple(CF_ref))\n",
    "print('CF current: %f %f'%tuple(CF_rot))"
   ]
  },
  {
   "cell_type": "markdown",
   "metadata": {},
   "source": [
    "### Vertical velocity of the aerofoil\n",
    "\n",
    "Here the aerofoil is at a zero angle with respect to the free stream velocity, but has a velocity perpendicular to the free stream. Both aerofoil and free stream speed are rotated w.r.t. the horizontal line.\n",
    "\n",
    "Note that this case is slightly inconsistent: if the aerofoil has a constant velocity, its wake does not develop along the free stream velocity, but on the sum between the free stream and the TE velocity. Because the wake does not impact the static solution, this is not accounted in the geometry."
   ]
  },
  {
   "cell_type": "code",
   "execution_count": null,
   "metadata": {
    "collapsed": false
   },
   "outputs": [],
   "source": [
    "##############################Rotated system + speed\n",
    "alpha_u=30.0*np.pi/180.0\n",
    "Uinf=Uabs*np.array([np.cos(alpha_u),np.sin(alpha_u)])\n",
    "S=uvlm.solver(M,Mw,b,Uinf,-alpha_u,rho=1.225)\n",
    "# build geometry with shift\n",
    "S.build_flat_plate()\n",
    "Uperp=np.array([-S.Udir[1],S.Udir[0]])\n",
    "alpha_eff=5.*np.pi/180.\n",
    "Uplate_mag=S.Uabs*np.sin(alpha_eff)\n",
    "Uplate=-Uplate_mag*Uperp\n",
    "S.dZetadt[:,:]=Uplate\n",
    "S.solve_static_Gamma2d()\n",
    "# Aero forces\n",
    "Ftot=S.FmatSta.sum(0)\n",
    "print('Current Force in G frame:')\n",
    "print(Ftot)\n",
    "\n",
    "# compute effective velocity\n",
    "Utot=Uinf-Uplate\n",
    "Utot_abs=np.linalg.norm(Utot)\n",
    "Utot_dir=Utot/Utot_abs\n",
    "Utot_perp=np.array([-Utot_dir[1],Utot_dir[0]])\n",
    "# project over effect velocity axis\n",
    "Fwind=np.zeros((2,))\n",
    "Fwind[0]=np.dot(Ftot,Utot_dir)\n",
    "Fwind[1]=np.dot(Ftot,Utot_perp)\n",
    "print('Current Force in wind frame:')\n",
    "print(Fwind)\n",
    "\n",
    "CF_rot=Fwind/(2.*S.b*S.qinf)/alpha_eff \n",
    "print('Force coefficients (always projected in wind axes)')\n",
    "print('CF reference: %f %f'%tuple(CF_ref))\n",
    "print('CF current: %f %f'%tuple(CF_rot))"
   ]
  },
  {
   "cell_type": "markdown",
   "metadata": {
    "collapsed": true
   },
   "source": [
    "This case is more complex, as the absolute effective velocity is larger due to the velocity of the plate. The aerodynamic coefficient match weel if projected in the effective wind axes. The match is not perfect as the effective velocities are different in the two cases and the code is not perfectly linear.\n",
    "\n",
    "The agreement is, however, satisfactory."
   ]
  }
 ],
 "metadata": {
  "kernelspec": {
   "display_name": "Python 3",
   "language": "python",
   "name": "python3"
  }
 },
 "nbformat": 4,
 "nbformat_minor": 2
}
